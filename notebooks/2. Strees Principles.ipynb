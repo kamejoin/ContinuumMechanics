{
 "cells": [
  {
   "cell_type": "markdown",
   "metadata": {
    "toc": "true"
   },
   "source": [
    "# Table of Contents\n",
    " <p><div class=\"lev1 toc-item\"><a href=\"#Stress-Principles\" data-toc-modified-id=\"Stress-Principles-1\"><span class=\"toc-item-num\">1&nbsp;&nbsp;</span>Stress Principles</a></div><div class=\"lev2 toc-item\"><a href=\"#Body-and-Surface-Forces,-Mass-Density\" data-toc-modified-id=\"Body-and-Surface-Forces,-Mass-Density-11\"><span class=\"toc-item-num\">1.1&nbsp;&nbsp;</span>Body and Surface Forces, Mass Density</a></div>"
   ]
  },
  {
   "cell_type": "markdown",
   "metadata": {},
   "source": [
    "# Stress Principles"
   ]
  },
  {
   "cell_type": "markdown",
   "metadata": {},
   "source": [
    "## Body and Surface Forces, Mass Density"
   ]
  },
  {
   "cell_type": "markdown",
   "metadata": {},
   "source": [
    "Those forces acting on all volume elements, and are distributed throughout the body, are known as <i>body forces</i> (gravity, intertia, etc.). We designte body forces by vectors symbols $b_i$ (force per unit mass) and $p_i$ (force per unit volume). Also, thoe forces which act upon, and are distributed over a surface element of the body, regardless of whether that element is part of the bounding surface, or an arbitrary element of surface within the body, are calle <i>surface forces</i>. This are denoted by the vector symbol $f_i$ (force per unit area)."
   ]
  },
  {
   "cell_type": "markdown",
   "metadata": {},
   "source": [
    "Let considet a material body $\\mathcal{B}$ having a volume $\\mathcal{V}$ enclosed by a surface $\\mathcal{S}$, and occupying a regular region $R_0$ of physical space. Let $P$ be an interior point of the body located in the small element of volume $\\Delta\\mathcal{V}$ whose mass is $\\Delta m$"
   ]
  },
  {
   "cell_type": "markdown",
   "metadata": {},
   "source": [
    "<img src=\"figures/Continuum Mechanics/2.1.png\", width=300>\n",
    "![2.1](img/figures/Continuum Mechanics/2.1.png)"
   ]
  },
  {
   "cell_type": "markdown",
   "metadata": {},
   "source": [
    "<!--NAVIGATION-->\n",
    "\n"
   ]
  }
 ],
 "metadata": {
  "kernelspec": {
   "display_name": "Python 2",
   "language": "python",
   "name": "python2"
  },
  "language_info": {
   "codemirror_mode": {
    "name": "ipython",
    "version": 2
   },
   "file_extension": ".py",
   "mimetype": "text/x-python",
   "name": "python",
   "nbconvert_exporter": "python",
   "pygments_lexer": "ipython2",
   "version": "2.7.13"
  },
  "latex_envs": {
   "LaTeX_envs_menu_present": true,
   "autocomplete": true,
   "bibliofile": "biblio.bib",
   "cite_by": "apalike",
   "current_citInitial": 1,
   "eqLabelWithNumbers": true,
   "eqNumInitial": 1,
   "hotkeys": {
    "equation": "Ctrl-E",
    "itemize": "Ctrl-I"
   },
   "labels_anchors": false,
   "latex_user_defs": false,
   "report_style_numbering": false,
   "user_envs_cfg": false
  },
  "toc": {
   "colors": {
    "hover_highlight": "#DAA520",
    "running_highlight": "#FF0000",
    "selected_highlight": "#FFD700"
   },
   "moveMenuLeft": true,
   "nav_menu": {
    "height": "137px",
    "width": "252px"
   },
   "navigate_menu": true,
   "number_sections": true,
   "sideBar": false,
   "threshold": 4,
   "toc_cell": true,
   "toc_position": {
    "height": "393px",
    "left": "2px",
    "right": "1370.89px",
    "top": "107px",
    "width": "337px"
   },
   "toc_section_display": "block",
   "toc_window_display": true,
   "widenNotebook": false
  }
 },
 "nbformat": 4,
 "nbformat_minor": 2
}
