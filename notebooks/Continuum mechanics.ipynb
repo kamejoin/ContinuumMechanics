{
 "cells": [
  {
   "cell_type": "markdown",
   "metadata": {
    "heading_collapsed": true
   },
   "source": [
    "# Essential Mathematics"
   ]
  },
  {
   "cell_type": "markdown",
   "metadata": {
    "hidden": true
   },
   "source": [
    "The language of continuum mechanics is the algreba and calculus of <b><i> tensors </i></b>. A tensor, or linear transformation, assigns any vector $v$ to another vector $Tv$ such that\n",
    "\n",
    "\\begin{align}\n",
    "T(v+w) &=Tv+Tw \\label{eq:1}\\\\\n",
    "T(\\alpha v) &=\\alpha Tv \\label{eq:2}\\\\\n",
    "(T+S)v &=Tv+Sv \\label{eq:3}\\\\\n",
    "(\\alpha T)v &=\\alpha (Tv) \\label{eq:4}\n",
    "\\end{align}\n",
    "\n",
    "<blockquote>\n",
    "A tensor is a methematical construction that \"eats\" a bunch of vectors, and \"spits out\" a scalar. The central principle of tensor analysis lies in the simple, almost trivial fact that scalars are unaffected by coordinate transformations. From this fact, we obtain the main result of tensor analysis: an equation written in tensor form is valid in any coordinate system.\n",
    "</blockquote>"
   ]
  },
  {
   "cell_type": "markdown",
   "metadata": {
    "heading_collapsed": true,
    "hidden": true,
    "hide_input": false
   },
   "source": [
    "## Scalars, Vectors and Cartesian Tensors"
   ]
  },
  {
   "cell_type": "markdown",
   "metadata": {
    "hidden": true
   },
   "source": [
    "### Scalars\n",
    "\n",
    "&nbsp;&nbsp;&nbsp;\n",
    "Quantities such as <i>density</i> and <i>temperature</i> may be specified completely by giving their magnitude. These quantities are represented mathematically by <b>scalars</b>, which are referred to as <b><i>zero-order tensors</i></b>. As a general rule, lower-case Greek letters such as $\\alpha, \\beta, \\gamma,$ etc. will be used as symbols for scalars in both the indicial and symbolic notations.\n",
    "\n",
    "\n",
    "### Vectors\n",
    "\n",
    "&nbsp;&nbsp;&nbsp;\n",
    "Quatities such as <i>force</i> and <i>velocity</i> require not only a magnitude, but also a direction for their complete characterization. These quantities are represented by <b>vectors</b>, which are <b><i>first-order tensors</i></b>. <br>\n",
    "\n",
    "Although vectors are independent of any particular coordinate system, it is often useful to define a vector in terms of its coordinate componentes, and in this respect it is necessary to reference the vector to an appropriate set of axes (Cartesian in this notebook).\n",
    "\n",
    "\n",
    "### Tensors\n",
    "\n",
    "&nbsp;&nbsp;&nbsp;\n",
    "Some other quantities require mathematical entities of higher order. Some of this quantities are the <i>stress</i> and the <i>strain</i> tensor, which are referred to as <b><i>second-order tensors</i></b>, and are said to have a rank of two. We shall denote this tensors by upper-case Latin letters like <b>T</b>. The components of the said tensor will be denoted by lower-case Latin lettrs with appropiate indices: $t_{ij}$.\n",
    "\n",
    "Like vectors, tensors are also independet of any coordinate system, but in order to specify them by their components we are obliged to refer to a suitable set of reference axes (Cartesian)."
   ]
  },
  {
   "cell_type": "markdown",
   "metadata": {
    "heading_collapsed": true,
    "hidden": true
   },
   "source": [
    "## Tensor Algebra in Symbolic Notation - Summation Convention"
   ]
  },
  {
   "cell_type": "markdown",
   "metadata": {
    "hidden": true
   },
   "source": [
    "&nbsp;&nbsp;&nbsp;\n",
    "The three-dimensional physical space of everyday life is known as a Euclidean three-space, and its geometry can be referenced to a system of Cartesian coordinate axes. Because scalar has only a single component, it will have the same value in every system of axes, but the components of vectors and tensors will have different components values, in general, for each set of axes. <br>\n",
    "\n",
    "We now introduce in our physical space a system of Cartesian axes $Ox_1x_2x_3$, and the triad of unit base vectors, $\\hat{e}_1, \\hat{e}_2, \\hat{e}_3$. In terms of this basis an arbitrary vector $v$  is given in component form by\n",
    "\n",
    "\\begin{equation}\n",
    "v = v_1\\hat{e}_1 + v_2\\hat{e}_2 + v_3\\hat{e}_3 = \\sum_{i=1}^{3} v_i\\hat{e}_i\n",
    "\\end{equation}"
   ]
  },
  {
   "cell_type": "markdown",
   "metadata": {
    "heading_collapsed": true,
    "hidden": true
   },
   "source": [
    "### The Sumation Convention"
   ]
  },
  {
   "cell_type": "markdown",
   "metadata": {
    "hidden": true
   },
   "source": [
    "Stated briefly, we agree that whenever a subscript appears exactly <i>twice</i> in a given termn, that subscript will take on all the 3 (1, 2, 3) values and the resulting terms summed. For example, we may now write Eq 5 in the simple form\n",
    "\n",
    "\\begin{equation}\n",
    "v = v_i\\hat{e}_i\n",
    "\\end{equation}\n",
    "\n",
    "\n",
    "#### Example\n",
    "\n",
    "\\begin{enumerate}\n",
    "\n",
    "\\item $\\mathbf{u_i v_i w_j \\hat{e}_j}$\n",
    "\\begin{align*}\n",
    "u_i v_i w_j \\hat{e}_j & = (u_1v_1 + u_2v_2 + u_3v_3)(w_1\\hat{e}_1 + w_2\\hat{e}_2 + w_3\\hat{e}_3)\n",
    "\\end{align*}\n",
    "\n",
    "\n",
    "\\item $\\mathbf{t_{ij}v_i\\hat{e}_j}$\n",
    "\\begin{align*}\n",
    "t_{ij}v_i\\hat{e}_j & = t_{1j}v_1\\hat{e}_j + t_{2j}v_2\\hat{e}_j + t_{3j}v_3\\hat{e}_j \\\\\n",
    "& =  (t_{11}v_1\\hat{e}_1 + t_{12}v_1\\hat{e}_2 + t_{13}v_1\\hat{e}_3) + \n",
    "     (t_{21}v_2\\hat{e}_1 + t_{22}v_2\\hat{e}_2 + t_{23}v_2\\hat{e}_3) +\n",
    "     (t_{31}v_3\\hat{e}_1 + t_{32}v_3\\hat{e}_2 + t_{33}v_3\\hat{e}_3)\\\\\n",
    "& =  (t_{11}v_1 + t_{21}v_2 + t_{31}v_3)\\hat{e}_1 + \n",
    "     (t_{12}v_1 + t_{22}v_2 + t_{32}v_3)\\hat{e}_2 + \n",
    "     (t_{13}v_1 + t_{23}v_2 + t_{33}v_3)\\hat{e}_3\n",
    "\\end{align*}\n",
    "\n",
    "\\item $\\mathbf{t_{ij}v_j\\hat{e}_i}$\n",
    "\\begin{align*}\n",
    "t_{ij}v_j\\hat{e}_i & = t_{1j}v_j\\hat{e}_1 + t_{2j}v_j\\hat{e}_2 + t_{3j}v_j\\hat{e}_3 \\\\\n",
    "& =  (t_{11}v_1\\hat{e}_1 + t_{12}v_2\\hat{e}_1 + t_{13}v_3\\hat{e}_1) + \n",
    "     (t_{21}v_1\\hat{e}_2 + t_{22}v_2\\hat{e}_2 + t_{23}v_3\\hat{e}_2) +\n",
    "     (t_{31}v_1\\hat{e}_3 + t_{32}v_2\\hat{e}_3 + t_{33}v_3\\hat{e}_3)\\\\\n",
    "& =  (t_{11}v_1 + t_{12}v_2 + t_{13}v_3)\\hat{e}_1 + \n",
    "     (t_{21}v_1 + t_{22}v_2 + t_{23}v_3)\\hat{e}_2 +\n",
    "     (t_{31}v_1 + t_{32}v_2 + t_{33}v_3)\\hat{e}_3\n",
    "\\end{align*}\n",
    "\n",
    "\\item $\\mathbf{t_{ii}v_j\\hat{e}_j}$\n",
    "\\begin{align*}\n",
    "t_{ii}v_j\\hat{e}_j & = (t_{11} + t_{22} + t_{33})(v_1\\hat{e}_1 + v_2\\hat{e}_2+ v_3\\hat{e}_3)\n",
    "\\end{align*}\n",
    "\n",
    "\\end{enumerate}\n"
   ]
  },
  {
   "cell_type": "markdown",
   "metadata": {
    "heading_collapsed": true,
    "hidden": true
   },
   "source": [
    "### Kronecker Delta"
   ]
  },
  {
   "cell_type": "markdown",
   "metadata": {
    "hidden": true
   },
   "source": [
    "Since the base vectos $\\hat{e}_i\\ (i=1,2,3)$ are unit vectors and orthogonal\n",
    "\n",
    "\\begin{equation*}\n",
    "\\hat{e}_i \\cdot \\hat{e}_j = \\begin{cases}\n",
    "                            1 \\;\\;\\;\\text{if numerical vulue of i = numerical value of j} \\\\\n",
    "                            0 \\;\\;\\;\\text{if numerical vulue of i} \\neq \\text{numerical value of j}\n",
    "                            \\end{cases}\n",
    "\\end{equation*}\n",
    "\n",
    "Therefore, we introduce the Kronecker delta as\n",
    "\n",
    "\\begin{equation}\\label{eq:delta}\n",
    "\\delta_{ij} = \\begin{cases}\n",
    "                            1 \\;\\;\\;\\text{if numerical vulue of i = numerical value of j} \\\\\n",
    "                            0 \\;\\;\\;\\text{if numerical vulue of i} \\neq \\text{numerical value of j}\n",
    "              \\end{cases}\n",
    "\\end{equation}\n",
    "\n",
    "Note that, using the summation convention\n",
    "\n",
    "\\begin{equation*}\n",
    "\\delta_{ii} = \\delta_{11} + \\delta_{22} + \\delta_{33} = 1 + 1 + 1 = 3 \n",
    "\\end{equation*}\n",
    "\n",
    "Furthermore\n",
    "\n",
    "\\begin{align*}\n",
    "\\delta_{ij}\\hat{e}_j &= \\delta_{i1}\\hat{e}_1 + \\delta_{i2}\\hat{e}_2 + \\delta_{i3}\\hat{e}_3 \\\\\n",
    "&= (\\delta_{11}\\hat{e}_1 + \\delta_{21}\\hat{e}_1 + \\delta_{31}\\hat{e}_1) + \n",
    "   (\\delta_{12}\\hat{e}_2 + \\delta_{22}\\hat{e}_2 + \\delta_{32}\\hat{e}_2) +\n",
    "   (\\delta_{13}\\hat{e}_3 + \\delta_{23}\\hat{e}_3 + \\delta_{33}\\hat{e}_3) \\\\\n",
    "&= (1 \\cdot \\hat{e}_1 + 0 \\cdot \\hat{e}_1 + 0 \\cdot \\hat{e}_1) + \n",
    "   (0 \\cdot \\hat{e}_2 + 1 \\cdot \\hat{e}_2 + 0 \\cdot \\hat{e}_2) +\n",
    "   (0 \\cdot \\hat{e}_3 + 0 \\cdot \\hat{e}_3 + 1 \\cdot \\hat{e}_3) \\\\\n",
    "&= \\hat{e}_1 + \\hat{e}_2 + \\hat{e}_3\n",
    "\\end{align*}\n",
    "\n",
    "\n",
    "\\begin{equation} \\label{eq:8}\n",
    "\\boxed{\\delta_{ij}\\hat{e}_j = \\hat{e}_i}\n",
    "\\end{equation}\n",
    "\n",
    "Hence, the Kronecker delta in $\\delta_{ij}\\hat{e}_j$ causes the subscript $j$ of $\\hat{e}_j$ to be replaced by $i$."
   ]
  },
  {
   "cell_type": "markdown",
   "metadata": {
    "heading_collapsed": true,
    "hidden": true
   },
   "source": [
    "### Permutation Symbol"
   ]
  },
  {
   "cell_type": "markdown",
   "metadata": {
    "hidden": true
   },
   "source": [
    "Let us introduce the permutation symbol $\\varepsilon_{ijk}$ defined by\n",
    "\n",
    "\\begin{equation} \\label{eq:9}\n",
    "\\varepsilon_{ijk} =  \\begin{cases}\n",
    "                            \\; 1  \\;\\;\\;\\;\\;   \\text{if numerical values of ijk appear as in 12312} \\\\\n",
    "                              -1  \\;\\;\\;\\;     \\text{if numerical values of ijk appear as in 32132} \\\\\n",
    "                            \\; 0  \\;\\;\\;\\;\\;   \\text{if numerical values of ijk appear in any other order (repeated)}\n",
    "                      \\end{cases}\n",
    "\\end{equation}\n",
    "\n",
    "Therefore, we can express the cross products of the base vectors using Eq $\\ref{eq:9}$ as\n",
    "\n",
    "\\begin{equation}\\label{eq:perm}\n",
    "\\boxed{\\hat{e}_i \\times \\hat{e}_j =  \\varepsilon_{ijk} \\hat{e}_k}\n",
    "\\end{equation}\n",
    "\n",
    "\n",
    "As long as the three subscript are present, the permutation symbol can't be null.\n",
    "\n",
    "Note that,\n",
    "\n",
    "\\begin{equation}\\label{eq:perm_eq}\n",
    "\\varepsilon_{ijk} = -\\varepsilon_{kji} = \\varepsilon_{kij} = -\\varepsilon_{ikj}\n",
    "\\end{equation}\n",
    "\n"
   ]
  },
  {
   "cell_type": "markdown",
   "metadata": {
    "heading_collapsed": true,
    "hidden": true
   },
   "source": [
    "### $\\varepsilon - \\delta$ Identity"
   ]
  },
  {
   "cell_type": "markdown",
   "metadata": {
    "hidden": true
   },
   "source": [
    "The product of permutation symbols $\\varepsilon_{miq}\\varepsilon_{jkq}$ may be expressed in terms of Kronecker deltas by\n",
    "\n",
    "\\begin{alignat*}{2}\n",
    "\\varepsilon_{miq}\\varepsilon_{jkq} &= \\varepsilon_{mi1}\\varepsilon_{jk1} + \\varepsilon_{mi2}\\varepsilon_{jk2} + \\varepsilon_{mi3}\\varepsilon_{jk3} \\\\\n",
    "\\\\\n",
    "\\text{Replacing} \\ m \\rightarrow &= (\\varepsilon_{1i1}\\varepsilon_{jk1} + \\varepsilon_{1i2}\\varepsilon_{jk2} + \\varepsilon_{1i3}\\varepsilon_{jk3}) +\n",
    "                                    (\\varepsilon_{2i1}\\varepsilon_{jk1} + \\varepsilon_{2i2}\\varepsilon_{jk2} + \\varepsilon_{2i3}\\varepsilon_{jk3}) +\n",
    "                                    (\\varepsilon_{3i1}\\varepsilon_{jk1} + \\varepsilon_{3i2}\\varepsilon_{jk2} + \\varepsilon_{3i3}\\varepsilon_{jk3}) \\\\\n",
    "&= (\\varepsilon_{1i2}\\varepsilon_{jk2} + \\varepsilon_{1i3}\\varepsilon_{jk3}) +\n",
    "   (\\varepsilon_{2i1}\\varepsilon_{jk1} + \\varepsilon_{2i3}\\varepsilon_{jk3}) +\n",
    "   (\\varepsilon_{3i1}\\varepsilon_{jk1} + \\varepsilon_{3i2}\\varepsilon_{jk2}) \\\\\n",
    "\\\\\n",
    "\\text{Replacing} \\ i \\rightarrow &=         (\\varepsilon_{112}\\varepsilon_{jk2} + \\varepsilon_{113}\\varepsilon_{jk3}) +\n",
    "                                            (\\varepsilon_{211}\\varepsilon_{jk1} + \\varepsilon_{213}\\varepsilon_{jk3}) +\n",
    "                                            (\\varepsilon_{311}\\varepsilon_{jk1} + \\varepsilon_{312}\\varepsilon_{jk2}) \\;+\\\\\n",
    "                                 &\\;\\;\\;\\;  (\\varepsilon_{122}\\varepsilon_{jk2} + \\varepsilon_{123}\\varepsilon_{jk3}) +\n",
    "                                            (\\varepsilon_{221}\\varepsilon_{jk1} + \\varepsilon_{223}\\varepsilon_{jk3}) +\n",
    "                                            (\\varepsilon_{321}\\varepsilon_{jk1} + \\varepsilon_{322}\\varepsilon_{jk2}) \\;+\\\\\n",
    "                                 &\\;\\;\\;\\;  (\\varepsilon_{132}\\varepsilon_{jk2} + \\varepsilon_{133}\\varepsilon_{jk3}) +\n",
    "                                            (\\varepsilon_{231}\\varepsilon_{jk1} + \\varepsilon_{233}\\varepsilon_{jk3}) +\n",
    "                                            (\\varepsilon_{331}\\varepsilon_{jk1} + \\varepsilon_{332}\\varepsilon_{jk2})\\\\\n",
    "&= (\\varepsilon_{213}\\varepsilon_{jk3} + \\varepsilon_{312}\\varepsilon_{jk2}) +\n",
    "   (\\varepsilon_{123}\\varepsilon_{jk3} + \\varepsilon_{321}\\varepsilon_{jk1}) +\n",
    "   (\\varepsilon_{132}\\varepsilon_{jk2} + \\varepsilon_{231}\\varepsilon_{jk1})\\\\\n",
    "\\\\\n",
    "\\text{Replacing} \\ j \\rightarrow &=         (\\varepsilon_{213}\\varepsilon_{1k3} + \\varepsilon_{312}\\varepsilon_{1k2}) +\n",
    "                                            (\\varepsilon_{123}\\varepsilon_{1k3} + \\varepsilon_{321}\\varepsilon_{1k1}) +\n",
    "                                            (\\varepsilon_{132}\\varepsilon_{1k2} + \\varepsilon_{231}\\varepsilon_{1k1}) \\;+\\\\\n",
    "                                 &\\;\\;\\;\\;  (\\varepsilon_{213}\\varepsilon_{2k3} + \\varepsilon_{312}\\varepsilon_{2k2}) +\n",
    "                                            (\\varepsilon_{123}\\varepsilon_{2k3} + \\varepsilon_{321}\\varepsilon_{2k1}) +\n",
    "                                            (\\varepsilon_{132}\\varepsilon_{2k2} + \\varepsilon_{231}\\varepsilon_{2k1}) \\;+\\\\\n",
    "                                 &\\;\\;\\;\\;  (\\varepsilon_{213}\\varepsilon_{3k3} + \\varepsilon_{312}\\varepsilon_{3k2}) +\n",
    "                                            (\\varepsilon_{123}\\varepsilon_{3k3} + \\varepsilon_{321}\\varepsilon_{3k1}) +\n",
    "                                            (\\varepsilon_{132}\\varepsilon_{3k2} + \\varepsilon_{231}\\varepsilon_{3k1})\\\\\n",
    "&= (-\\varepsilon_{1k3} + \\varepsilon_{1k2} + \\varepsilon_{1k3} - \\varepsilon_{1k2}) +\n",
    "   (-\\varepsilon_{2k3} + \\varepsilon_{2k3} - \\varepsilon_{2k1} - \\varepsilon_{2k1}) +\n",
    "   (-\\varepsilon_{3k2} - \\varepsilon_{3k1} - \\varepsilon_{3k2} + \\varepsilon_{3k1})\\\\\n",
    "\\\\\n",
    "\\text{Replacing} \\ k \\rightarrow &=         (-\\varepsilon_{113} + \\varepsilon_{112} + \\varepsilon_{113} - \\varepsilon_{112}) +\n",
    "                                            (-\\varepsilon_{213} + \\varepsilon_{213} - \\varepsilon_{211} - \\varepsilon_{211}) +\n",
    "                                            (-\\varepsilon_{312} - \\varepsilon_{311} - \\varepsilon_{312} + \\varepsilon_{311}) \\;+\\\\\n",
    "                                 &\\;\\;\\;\\;  (-\\varepsilon_{123} + \\varepsilon_{122} + \\varepsilon_{123} - \\varepsilon_{122}) +\n",
    "                                            (-\\varepsilon_{223} + \\varepsilon_{223} - \\varepsilon_{221} - \\varepsilon_{221}) +\n",
    "                                            (-\\varepsilon_{322} - \\varepsilon_{321} - \\varepsilon_{322} + \\varepsilon_{321}) \\;+\\\\\n",
    "                                 &\\;\\;\\;\\;  (-\\varepsilon_{133} + \\varepsilon_{132} + \\varepsilon_{133} - \\varepsilon_{132}) +\n",
    "                                            (-\\varepsilon_{233} + \\varepsilon_{233} - \\varepsilon_{231} - \\varepsilon_{231}) +\n",
    "                                            (-\\varepsilon_{332} - \\varepsilon_{331} - \\varepsilon_{332} + \\varepsilon_{331})\\\\\n",
    "&= (-\\varepsilon_{213} + \\varepsilon_{213} - \\varepsilon_{312} - \\varepsilon_{312}) +\n",
    "   (-\\varepsilon_{123} + \\varepsilon_{123} - \\varepsilon_{321} + \\varepsilon_{321}) +\n",
    "   ( \\varepsilon_{132} - \\varepsilon_{132} - \\varepsilon_{231} - \\varepsilon_{231})\n",
    "\\end{alignat*}"
   ]
  },
  {
   "cell_type": "markdown",
   "metadata": {
    "hidden": true
   },
   "source": [
    "Finally,\n",
    "\n",
    "\\begin{align*}\n",
    "\\varepsilon_{miq}\\varepsilon_{jkq} &= (-\\varepsilon_{213} + \\varepsilon_{213} - \\varepsilon_{312} - \\varepsilon_{312}) +\n",
    "                                      (-\\varepsilon_{123} + \\varepsilon_{123} - \\varepsilon_{321} + \\varepsilon_{321}) +\n",
    "                                      (\\varepsilon_{132} - \\varepsilon_{132} - \\varepsilon_{231} - \\varepsilon_{231})\\\\\n",
    "                                   &= ( 1 - 1 - 1 - 1) +\n",
    "                                      (-1 + 1 + 1 - 1) +\n",
    "                                      (-1 + 1 - 1 - 1)\\\\\n",
    "                                   &= -2 - 2 \\\\\n",
    "                                   &= -4\n",
    "\\end{align*}                                "
   ]
  },
  {
   "cell_type": "markdown",
   "metadata": {
    "hidden": true
   },
   "source": [
    "\\begin{equation}\\label{eq:dpidentity}\n",
    "\\boxed{\\varepsilon_{miq}\\varepsilon_{jkq} = \\delta_{mj}\\delta_{ik} - \\delta_{mk}\\delta_{ij}}\n",
    "\\end{equation}"
   ]
  },
  {
   "cell_type": "markdown",
   "metadata": {
    "hidden": true
   },
   "source": [
    "### Tensor/Vector Algebra"
   ]
  },
  {
   "cell_type": "markdown",
   "metadata": {
    "heading_collapsed": true,
    "hidden": true
   },
   "source": [
    "#### Vector Addition and Scalar Product"
   ]
  },
  {
   "cell_type": "markdown",
   "metadata": {
    "hidden": true
   },
   "source": [
    "Vector addition is simple\n",
    "\n",
    "\\begin{equation}\n",
    "w=u+v \\;\\;\\;\\; \\rightarrow \\;\\;\\;\\; w_i\\hat{e}_i=(u_i+v_i)\\hat{e}_i\n",
    "\\end{equation}\n",
    "\n",
    "Multiplicaction by a scalar is called <i>Scalar product</i>\n",
    "\n",
    "\\begin{equation}\n",
    "\\lambda v=\\lambda v_i\\hat{e}_i \n",
    "\\end{equation}"
   ]
  },
  {
   "cell_type": "markdown",
   "metadata": {
    "heading_collapsed": true,
    "hidden": true
   },
   "source": [
    "#### Dot Product (Inner Product)"
   ]
  },
  {
   "cell_type": "markdown",
   "metadata": {
    "hidden": true
   },
   "source": [
    "The <i>dot product</i> is defined as\n",
    "\n",
    "\\begin{equation}\n",
    "u \\cdot v = v \\cdot u = uv\\cos\\theta\n",
    "\\end{equation}\n",
    "\n",
    "where $\\theta$ is the smaller angle between the two vectors when drawn from a common origin.\n",
    "\n",
    "Using $\\delta_{ij}$ (Kronecker Delta) and  $\\ref{eq:8}$ on the <i>dot product</i>\n",
    "\n",
    "\\begin{align*}\n",
    "u \\cdot v &= u_i\\hat{e}_i \\cdot u_j\\hat{e}_j \\\\\n",
    "          &= u_iv_j\\hat{e}_i \\cdot \\hat{e}_j \\\\\n",
    "          &= u_iv_j\\delta_{ij}    &\\leftarrow \\text{Eq $\\ref{eq:delta}$}\\\\\n",
    "          &= u_iv_i               &\\leftarrow \\text{Eq $\\ref{eq:8}$} \n",
    "\\end{align*}\n",
    "\n",
    "Therefore,\n",
    "\n",
    "\\begin{equation}\\label{eq:dot_delta}\n",
    "\\boxed{u \\cdot v = u_iv_i}\n",
    "\\end{equation}\n",
    "\n"
   ]
  },
  {
   "cell_type": "markdown",
   "metadata": {
    "heading_collapsed": true,
    "hidden": true
   },
   "source": [
    "#### Cross Product"
   ]
  },
  {
   "cell_type": "markdown",
   "metadata": {
    "hidden": true
   },
   "source": [
    "The <i>vector cross product</i> is defined by\n",
    "\n",
    "\\begin{equation}\n",
    "u \\times v = -v \\times u = (uv\\sin \\theta)\\hat{e}\n",
    "\\end{equation}\n",
    "\n",
    "where $0 \\leq \\theta \\leq \\pi$, is the angle between the two vectors when drawn from a common origin. $\\hat{e}$ is a unit vector perpendicular to their plane.\n",
    "\n",
    "Using $\\varepsilon_{ijk}$ the <i>cross product</i> may be written as follows:\n",
    "\n",
    "\\begin{align*}\n",
    "u \\times v &= u_i\\hat{e}_i \\times v_j\\hat{e}_j \\\\\n",
    "           &= u_iv_j (\\hat{e}_i \\times \\hat{e}_j) \\\\\n",
    "           &= \\varepsilon_{ijk} u_iv_j \\hat{e}_k   &\\leftarrow \\text{Eq $\\ref{eq:perm}$}\\\\\n",
    "\\end{align*}\n",
    "\n",
    "Hence,\n",
    "\n",
    "\\begin{equation}\\label{eq:cross_perm}\n",
    "\\boxed{u \\times v = \\varepsilon_{ijk} u_iv_j \\hat{e}_k}\n",
    "\\end{equation}"
   ]
  },
  {
   "cell_type": "markdown",
   "metadata": {
    "heading_collapsed": true,
    "hidden": true
   },
   "source": [
    "#### Triple Scalar Product (Box Product)"
   ]
  },
  {
   "cell_type": "markdown",
   "metadata": {
    "hidden": true
   },
   "source": [
    "The <i>triple scalar product (box product)</i> is defined by\n",
    "\n",
    "\\begin{equation*}\n",
    "u \\cdot v \\times w = u \\times v \\cdot w = [u, v, w]\n",
    "\\end{equation*}\n",
    "\\\\\n",
    "\n",
    "Expanding this expression,\n",
    "\n",
    "\\begin{align*}\n",
    "[u,v,w] &= u_i\\hat{e}_i \\cdot (v_j\\hat{e}_j \\times w_k\\hat{e}_k) \\\\\n",
    "        &= u_i\\hat{e}_i \\cdot (\\varepsilon_{jkq}v_jw_k\\hat{e}_q)    &&\\leftarrow \\text{Eq $\\ref{eq:cross_perm}$} \\\\\n",
    "        &= u_iv_jw_k\\varepsilon_{jkq} (\\hat{e}_i \\cdot \\hat{e}_q) \\\\\n",
    "        &= u_iv_jw_k \\varepsilon_{jkq}\\delta_{iq}                   &&\\leftarrow \\text{Eq $\\ref{eq:dot_delta}$} \\\\\n",
    "        &= u_iv_jw_k \\varepsilon_{jki}                              &&\\leftarrow \\text{Eq $\\ref{eq:8}$} \\\\\n",
    "        &= \\varepsilon_{ijk} u_iv_jw_k                              &&\\leftarrow \\text{Eq $\\ref{eq:perm_eq}$}\\\\\n",
    "\\end{align*}\n",
    "\n",
    "So,\n",
    "\n",
    "\\begin{equation}\\label{eq:box_prod}\n",
    "\\boxed{[u,v,w] = \\varepsilon_{ijk} u_iv_jw_k}\n",
    "\\end{equation}\n"
   ]
  },
  {
   "cell_type": "markdown",
   "metadata": {
    "heading_collapsed": true,
    "hidden": true
   },
   "source": [
    "#### Triple Cross Product"
   ]
  },
  {
   "cell_type": "markdown",
   "metadata": {
    "hidden": true
   },
   "source": [
    "The <i>triple cross product</i> is defined by\n",
    "\n",
    "\\begin{align*}\n",
    "u \\times (v \\times w) &= u_i\\hat{e}_i \\times (v_j\\hat{e}_j \\times w_k\\hat{e}_k) \\\\\n",
    "                      &= u_i\\hat{e}_i \\times (\\varepsilon_{jkq}v_jw_k\\hat{e}_q)    &&\\leftarrow \\text{Eq $\\ref{eq:cross_perm}$} \\\\\n",
    "                      &= \\varepsilon_{jkq}u_iv_jw_k (\\hat{e}_i \\times \\hat{e}_q) \\\\\n",
    "                      &= \\varepsilon_{jkq}u_iv_jw_k (\\varepsilon_{iqm}\\hat{e}_m)   &&\\leftarrow \\text{Eq $\\ref{eq:perm}$} \\\\\n",
    "                      &= \\varepsilon_{miq}\\varepsilon_{jkq}u_iv_jw_k \\hat{e}_m\n",
    "\\end{align*}\n",
    "\n",
    "Which may be written as\n",
    "\n",
    "\\begin{align*}\n",
    "u \\times (v \\times w) &= (\\delta_{mj}\\delta_{ik} - \\delta_{mk}\\delta_{ij})u_iv_jw_k \\hat{e}_m    &&\\leftarrow \\text{Eq $\\ref{eq:dpidentity}$} \\\\\n",
    "                      &= [u_i(\\delta_{mj}v_j)(\\delta_{ik}w_k) - u_i(\\delta_{ij}v_j)(\\delta_{mk}w_k)] \\hat{e}_m \\\\\n",
    "                      &= (u_iv_mw_i - u_iv_iw_m) \\hat{e}_m     &&\\leftarrow \\text{Eq $\\ref{eq:8}$} \\\\\n",
    "                      &= u_iw_iv_m\\hat{e}_m - u_iv_iw_m\\hat{e}_m       \n",
    "\\end{align*}\n",
    "\n",
    "Therefore,\n",
    "\n",
    "\\begin{equation}\\label{eq:triplecrossproduct}\n",
    "\\boxed{u \\times (v \\times w) = (u \\cdot w)v - (u \\cdot v)w}\n",
    "\\end{equation}\n"
   ]
  },
  {
   "cell_type": "markdown",
   "metadata": {
    "heading_collapsed": true,
    "hidden": true
   },
   "source": [
    "#### Tensor Product (Dyad)"
   ]
  },
  {
   "cell_type": "markdown",
   "metadata": {
    "hidden": true
   },
   "source": [
    "Two vector can be multiplied together in a way in which they yield a <b>tensor</b>. The tensor product of two vectors creates a <i>dyad</i>\n",
    "\n",
    "\\begin{equation}\\label{eq:dyad}\n",
    "uv = u_i\\hat{e}_i v_j\\hat{e}_j\n",
    "\\end{equation}\n",
    "\n",
    "Exanding\n",
    "\n",
    "\\begin{equation}\\label{eq:dyad_expanded}\n",
    "\\begin{split}\n",
    "uv &= u_1v_j \\hat{e}_1\\hat{e}_j + u_2v_j \\hat{e}_2\\hat{e}_j + u_3v_j \\hat{e}_3\\hat{e}_j \\\\\n",
    "\\\\\n",
    "   &= u_1v_1 \\hat{e}_1\\hat{e}_1 + u_1v_2 \\hat{e}_1\\hat{e}_2 + u_1v_3 \\hat{e}_1\\hat{e}_3 \\\\\n",
    "   &+ u_2v_1 \\hat{e}_2\\hat{e}_1 + u_2v_2 \\hat{e}_2\\hat{e}_2 + u_2v_3 \\hat{e}_2\\hat{e}_3 \\\\\n",
    "   &+ u_3v_1 \\hat{e}_3\\hat{e}_1 + u_3v_2 \\hat{e}_3\\hat{e}_2 + u_3v_3 \\hat{e}_3\\hat{e}_3 \\\\\n",
    "\\end{split}\n",
    "\\end{equation}\n",
    "\n",
    "An alternative notation frequently used is\n",
    "\n",
    "\\begin{equation}\\label{eq:tensor_producto}\n",
    "a\\otimes b = a_i\\hat{e}_i \\otimes b_j\\hat{e}_j = a_ib_j\\hat{e}_i \\otimes \\hat{e}_j\n",
    "\\end{equation}\n",
    "\n",
    "which is called a <i>tensor product</i>. \n"
   ]
  },
  {
   "cell_type": "markdown",
   "metadata": {},
   "source": [
    "# Stress Principles"
   ]
  },
  {
   "cell_type": "markdown",
   "metadata": {},
   "source": [
    "## Body and Surface Forces, Mass Density"
   ]
  },
  {
   "cell_type": "markdown",
   "metadata": {},
   "source": [
    "Those forces acting on all volume elements, and are distributed throughout the body, are known as <i>body forces</i> (gravity, intertia, etc.). We designte body forces by vectors symbols $b_i$ (force per unit mass) and $p_i$ (force per unit volume). Also, thoe forces which act upon, and are distributed over a surface element of the body, regardless of whether that element is part of the bounding surface, or an arbitrary element of surface within the body, are calle <i>surface forces</i>. This are denoted by the vector symbol $f_i$ (force per unit area)."
   ]
  },
  {
   "cell_type": "markdown",
   "metadata": {},
   "source": [
    "Let considet a material body $\\mathcal{B}$ having a volume $\\mathcal{V}$ enclosed by a surface $\\mathcal{S}$, and occupying a regular region $R_0$ of physical space. Let $P$ be an interior point of the body located in the small element of volume $\\Delta\\mathcal{V}$ whose mass is $\\Delta m$"
   ]
  },
  {
   "cell_type": "markdown",
   "metadata": {},
   "source": [
    "<img src=\"figures/Continuum Mechanics/2.1.png\", width=300>\n",
    "![2.1](img/figures/Continuum Mechanics/2.1.png)"
   ]
  },
  {
   "cell_type": "markdown",
   "metadata": {},
   "source": [
    "<!--NAVIGATION-->\n",
    "\n"
   ]
  }
 ],
 "metadata": {
  "kernelspec": {
   "display_name": "Python 2",
   "language": "python",
   "name": "python2"
  },
  "language_info": {
   "codemirror_mode": {
    "name": "ipython",
    "version": 2
   },
   "file_extension": ".py",
   "mimetype": "text/x-python",
   "name": "python",
   "nbconvert_exporter": "python",
   "pygments_lexer": "ipython2",
   "version": "2.7.13"
  },
  "latex_envs": {
   "LaTeX_envs_menu_present": true,
   "autocomplete": true,
   "bibliofile": "biblio.bib",
   "cite_by": "apalike",
   "current_citInitial": 1,
   "eqLabelWithNumbers": true,
   "eqNumInitial": 1,
   "hotkeys": {
    "equation": "Ctrl-E",
    "itemize": "Ctrl-I"
   },
   "labels_anchors": false,
   "latex_user_defs": false,
   "report_style_numbering": false,
   "user_envs_cfg": false
  },
  "toc": {
   "colors": {
    "hover_highlight": "#DAA520",
    "running_highlight": "#FF0000",
    "selected_highlight": "#FFD700"
   },
   "moveMenuLeft": true,
   "nav_menu": {
    "height": "137px",
    "width": "252px"
   },
   "navigate_menu": true,
   "number_sections": true,
   "sideBar": true,
   "threshold": 4,
   "toc_cell": true,
   "toc_position": {
    "height": "844px",
    "left": "0px",
    "right": "1370.89px",
    "top": "106px",
    "width": "369px"
   },
   "toc_section_display": "block",
   "toc_window_display": true,
   "widenNotebook": false
  }
 },
 "nbformat": 4,
 "nbformat_minor": 2
}
